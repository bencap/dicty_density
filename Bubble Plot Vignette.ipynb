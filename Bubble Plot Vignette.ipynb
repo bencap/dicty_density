{
 "cells": [
  {
   "cell_type": "code",
   "execution_count": 97,
   "metadata": {},
   "outputs": [
    {
     "data": {
      "text/html": [
       "        <script type=\"text/javascript\">\n",
       "        window.PlotlyConfig = {MathJaxConfig: 'local'};\n",
       "        if (window.MathJax) {MathJax.Hub.Config({SVG: {font: \"STIX-Web\"}});}\n",
       "        if (typeof require !== 'undefined') {\n",
       "        require.undef(\"plotly\");\n",
       "        requirejs.config({\n",
       "            paths: {\n",
       "                'plotly': ['https://cdn.plot.ly/plotly-latest.min']\n",
       "            }\n",
       "        });\n",
       "        require(['plotly'], function(Plotly) {\n",
       "            window._Plotly = Plotly;\n",
       "        });\n",
       "        }\n",
       "        </script>\n",
       "        "
      ]
     },
     "metadata": {},
     "output_type": "display_data"
    }
   ],
   "source": [
    "import plotly as py\n",
    "import plotly.graph_objs as go\n",
    "from plotly.offline import init_notebook_mode\n",
    "import pandas as pd\n",
    "init_notebook_mode(connected=True)"
   ]
  },
  {
   "cell_type": "code",
   "execution_count": 98,
   "metadata": {},
   "outputs": [
    {
     "data": {
      "text/html": [
       "<div>\n",
       "<style scoped>\n",
       "    .dataframe tbody tr th:only-of-type {\n",
       "        vertical-align: middle;\n",
       "    }\n",
       "\n",
       "    .dataframe tbody tr th {\n",
       "        vertical-align: top;\n",
       "    }\n",
       "\n",
       "    .dataframe thead th {\n",
       "        text-align: right;\n",
       "    }\n",
       "</style>\n",
       "<table border=\"1\" class=\"dataframe\">\n",
       "  <thead>\n",
       "    <tr style=\"text-align: right;\">\n",
       "      <th></th>\n",
       "      <th>Location</th>\n",
       "      <th>Count</th>\n",
       "      <th>Lat</th>\n",
       "      <th>Long</th>\n",
       "      <th>text</th>\n",
       "    </tr>\n",
       "  </thead>\n",
       "  <tbody>\n",
       "    <tr>\n",
       "      <th>0</th>\n",
       "      <td>Runnel's Hill</td>\n",
       "      <td>6</td>\n",
       "      <td>44.557124</td>\n",
       "      <td>-69.666713</td>\n",
       "      <td>Runnel's Hill&lt;br&gt;Count 6</td>\n",
       "    </tr>\n",
       "    <tr>\n",
       "      <th>1</th>\n",
       "      <td>Bald Mountain</td>\n",
       "      <td>14</td>\n",
       "      <td>44.652392</td>\n",
       "      <td>-70.344830</td>\n",
       "      <td>Bald Mountain&lt;br&gt;Count 14</td>\n",
       "    </tr>\n",
       "    <tr>\n",
       "      <th>2</th>\n",
       "      <td>Black Mountain</td>\n",
       "      <td>6</td>\n",
       "      <td>44.418574</td>\n",
       "      <td>-70.465322</td>\n",
       "      <td>Black Mountain&lt;br&gt;Count 6</td>\n",
       "    </tr>\n",
       "    <tr>\n",
       "      <th>3</th>\n",
       "      <td>Rome Lakes</td>\n",
       "      <td>7</td>\n",
       "      <td>44.588142</td>\n",
       "      <td>-69.863002</td>\n",
       "      <td>Rome Lakes&lt;br&gt;Count 7</td>\n",
       "    </tr>\n",
       "    <tr>\n",
       "      <th>4</th>\n",
       "      <td>Mount Zircon</td>\n",
       "      <td>1</td>\n",
       "      <td>44.475854</td>\n",
       "      <td>-70.559144</td>\n",
       "      <td>Mount Zircon&lt;br&gt;Count 1</td>\n",
       "    </tr>\n",
       "    <tr>\n",
       "      <th>5</th>\n",
       "      <td>Glass Faced Ledges</td>\n",
       "      <td>8</td>\n",
       "      <td>44.516483</td>\n",
       "      <td>-70.606907</td>\n",
       "      <td>Glass Faced Ledges&lt;br&gt;Count 8</td>\n",
       "    </tr>\n",
       "    <tr>\n",
       "      <th>6</th>\n",
       "      <td>Bigelow</td>\n",
       "      <td>56</td>\n",
       "      <td>45.144057</td>\n",
       "      <td>-70.284246</td>\n",
       "      <td>Bigelow&lt;br&gt;Count 56</td>\n",
       "    </tr>\n",
       "    <tr>\n",
       "      <th>7</th>\n",
       "      <td>Tumbledown</td>\n",
       "      <td>14</td>\n",
       "      <td>44.748976</td>\n",
       "      <td>-70.540672</td>\n",
       "      <td>Tumbledown&lt;br&gt;Count 14</td>\n",
       "    </tr>\n",
       "  </tbody>\n",
       "</table>\n",
       "</div>"
      ],
      "text/plain": [
       "             Location  Count        Lat       Long  \\\n",
       "0       Runnel's Hill      6  44.557124 -69.666713   \n",
       "1       Bald Mountain     14  44.652392 -70.344830   \n",
       "2      Black Mountain      6  44.418574 -70.465322   \n",
       "3          Rome Lakes      7  44.588142 -69.863002   \n",
       "4        Mount Zircon      1  44.475854 -70.559144   \n",
       "5  Glass Faced Ledges      8  44.516483 -70.606907   \n",
       "6             Bigelow     56  45.144057 -70.284246   \n",
       "7          Tumbledown     14  44.748976 -70.540672   \n",
       "\n",
       "                            text  \n",
       "0       Runnel's Hill<br>Count 6  \n",
       "1      Bald Mountain<br>Count 14  \n",
       "2      Black Mountain<br>Count 6  \n",
       "3          Rome Lakes<br>Count 7  \n",
       "4        Mount Zircon<br>Count 1  \n",
       "5  Glass Faced Ledges<br>Count 8  \n",
       "6            Bigelow<br>Count 56  \n",
       "7         Tumbledown<br>Count 14  "
      ]
     },
     "execution_count": 98,
     "metadata": {},
     "output_type": "execute_result"
    }
   ],
   "source": [
    "df = pd.read_csv('Gus Dicty Map.csv')\n",
    "\n",
    "df['text'] = df['Location'] + '<br>Count ' + (df['Count']).astype(str)\n",
    "limits = [(0),(1),(2),(3),(4),(5),(6),(7)]\n",
    "colors = [\"rgb(0,116,217)\",\"rgb(255,65,54)\",\"rgb(133,20,75)\",\"rgb(255,133,27)\",\"rgb(128,0,0)\",\"rgb(70,153,154)\",\"rgb(240,20,230)\",\"rgb(256,216,177)\"]\n",
    "cities = []\n",
    "scale = 0.5\n",
    "\n",
    "df"
   ]
  },
  {
   "cell_type": "code",
   "execution_count": 99,
   "metadata": {},
   "outputs": [],
   "source": [
    "for i in range(len(limits)):\n",
    "    lim = limits[i]\n",
    "    df_sub = df.iloc[lim]\n",
    "    city = go.Scattergeo( locationmode = 'USA-states',\n",
    "                          lon = [df_sub['Long']],\n",
    "                          lat = [df_sub['Lat']],\n",
    "                          text = df_sub['text'],\n",
    "                          marker = go.scattergeo.Marker( size = df_sub['Count'],\n",
    "                                                         color = colors[i],\n",
    "                                                    line = go.scattergeo.marker.Line( width=0.5, color='rgb(40,40,40)' ),\n",
    "                                                         sizemode = 'area' ),\n",
    "                                                         name = df_sub[\"Location\"] )\n",
    "    cities.append(city)"
   ]
  },
  {
   "cell_type": "code",
   "execution_count": 106,
   "metadata": {},
   "outputs": [],
   "source": [
    "layout = go.Layout(\n",
    "        title = go.layout.Title(\n",
    "            text = 'Dicty Collection Density'\n",
    "        ),\n",
    "        showlegend = True,\n",
    "        geo = go.layout.Geo(\n",
    "            scope = 'usa',\n",
    "            projection = go.layout.geo.Projection(\n",
    "                type='albers usa'\n",
    "            ),\n",
    "            showland = True,\n",
    "            landcolor = 'rgb(217, 217, 217)',\n",
    "            subunitwidth=1,\n",
    "            countrywidth=1,\n",
    "            subunitcolor=\"rgb(255, 255, 255)\",\n",
    "            countrycolor=\"rgb(255, 255, 255)\"\n",
    "        )\n",
    "    )"
   ]
  },
  {
   "cell_type": "code",
   "execution_count": 101,
   "metadata": {},
   "outputs": [
    {
     "data": {
      "application/vnd.plotly.v1+json": {
       "config": {
        "linkText": "Export to plot.ly",
        "plotlyServerURL": "https://plot.ly",
        "showLink": false
       },
       "data": [
        {
         "lat": [
          44.557124
         ],
         "locationmode": "USA-states",
         "lon": [
          -69.666713
         ],
         "marker": {
          "color": "rgb(0,116,217)",
          "line": {
           "color": "rgb(40,40,40)",
           "width": 0.5
          },
          "size": 6,
          "sizemode": "area"
         },
         "name": "Runnel's Hill",
         "text": "Runnel's Hill<br>Count 6",
         "type": "scattergeo",
         "uid": "5c024fc2-0597-45b0-afa3-b4b01443a743"
        },
        {
         "lat": [
          44.652392
         ],
         "locationmode": "USA-states",
         "lon": [
          -70.34483
         ],
         "marker": {
          "color": "rgb(255,65,54)",
          "line": {
           "color": "rgb(40,40,40)",
           "width": 0.5
          },
          "size": 14,
          "sizemode": "area"
         },
         "name": "Bald Mountain",
         "text": "Bald Mountain<br>Count 14",
         "type": "scattergeo",
         "uid": "0ebdce0d-730c-449b-88b9-05319b9e75c2"
        },
        {
         "lat": [
          44.418574
         ],
         "locationmode": "USA-states",
         "lon": [
          -70.465322
         ],
         "marker": {
          "color": "rgb(133,20,75)",
          "line": {
           "color": "rgb(40,40,40)",
           "width": 0.5
          },
          "size": 6,
          "sizemode": "area"
         },
         "name": "Black Mountain",
         "text": "Black Mountain<br>Count 6",
         "type": "scattergeo",
         "uid": "734df043-4919-403c-9adc-0264ae4d91cf"
        },
        {
         "lat": [
          44.588142
         ],
         "locationmode": "USA-states",
         "lon": [
          -69.86300200000001
         ],
         "marker": {
          "color": "rgb(255,133,27)",
          "line": {
           "color": "rgb(40,40,40)",
           "width": 0.5
          },
          "size": 7,
          "sizemode": "area"
         },
         "name": "Rome Lakes",
         "text": "Rome Lakes<br>Count 7",
         "type": "scattergeo",
         "uid": "16ec571b-5bd5-4c9a-8f59-ea0490f19c05"
        },
        {
         "lat": [
          44.475854
         ],
         "locationmode": "USA-states",
         "lon": [
          -70.55914399999999
         ],
         "marker": {
          "color": "rgb(128,0,0)",
          "line": {
           "color": "rgb(40,40,40)",
           "width": 0.5
          },
          "size": 1,
          "sizemode": "area"
         },
         "name": "Mount Zircon",
         "text": "Mount Zircon<br>Count 1",
         "type": "scattergeo",
         "uid": "2efbe73e-464e-4fe5-8056-96e5bd9c12d8"
        },
        {
         "lat": [
          44.516483
         ],
         "locationmode": "USA-states",
         "lon": [
          -70.60690699999999
         ],
         "marker": {
          "color": "rgb(70,153,154)",
          "line": {
           "color": "rgb(40,40,40)",
           "width": 0.5
          },
          "size": 8,
          "sizemode": "area"
         },
         "name": "Glass Faced Ledges",
         "text": "Glass Faced Ledges<br>Count 8",
         "type": "scattergeo",
         "uid": "d8d5cc67-6f3c-4e67-8bf9-2e57b4cdc4a7"
        },
        {
         "lat": [
          45.144057000000004
         ],
         "locationmode": "USA-states",
         "lon": [
          -70.284246
         ],
         "marker": {
          "color": "rgb(240,20,230)",
          "line": {
           "color": "rgb(40,40,40)",
           "width": 0.5
          },
          "size": 56,
          "sizemode": "area"
         },
         "name": "Bigelow",
         "text": "Bigelow<br>Count 56",
         "type": "scattergeo",
         "uid": "88e50c81-8db1-4559-9f95-3036906673db"
        },
        {
         "lat": [
          44.748976
         ],
         "locationmode": "USA-states",
         "lon": [
          -70.540672
         ],
         "marker": {
          "color": "rgb(256,216,177)",
          "line": {
           "color": "rgb(40,40,40)",
           "width": 0.5
          },
          "size": 14,
          "sizemode": "area"
         },
         "name": "Tumbledown",
         "text": "Tumbledown<br>Count 14",
         "type": "scattergeo",
         "uid": "16648779-0060-4220-aaa7-dd183e80f37a"
        }
       ],
       "layout": {
        "geo": {
         "countrycolor": "rgb(255, 255, 255)",
         "countrywidth": 1,
         "landcolor": "rgb(217, 217, 217)",
         "projection": {
          "type": "albers usa"
         },
         "scope": "usa",
         "showland": true,
         "subunitcolor": "rgb(255, 255, 255)",
         "subunitwidth": 1
        },
        "showlegend": true,
        "title": {
         "text": "Dicty Collection Density"
        }
       }
      },
      "text/html": [
       "<div>\n",
       "        \n",
       "        \n",
       "            <div id=\"f932f63e-494d-4aa4-bd18-e6fe8eb50ac7\" class=\"plotly-graph-div\" style=\"height:525px; width:100%;\"></div>\n",
       "            <script type=\"text/javascript\">\n",
       "                require([\"plotly\"], function(Plotly) {\n",
       "                    window.PLOTLYENV=window.PLOTLYENV || {};\n",
       "                    window.PLOTLYENV.BASE_URL='https://plot.ly';\n",
       "                    \n",
       "                if (document.getElementById(\"f932f63e-494d-4aa4-bd18-e6fe8eb50ac7\")) {\n",
       "                    Plotly.newPlot(\n",
       "                        'f932f63e-494d-4aa4-bd18-e6fe8eb50ac7',\n",
       "                        [{\"lat\": [44.557124], \"locationmode\": \"USA-states\", \"lon\": [-69.666713], \"marker\": {\"color\": \"rgb(0,116,217)\", \"line\": {\"color\": \"rgb(40,40,40)\", \"width\": 0.5}, \"size\": 6, \"sizemode\": \"area\"}, \"name\": \"Runnel's Hill\", \"text\": \"Runnel's Hill<br>Count 6\", \"type\": \"scattergeo\", \"uid\": \"5c024fc2-0597-45b0-afa3-b4b01443a743\"}, {\"lat\": [44.652392], \"locationmode\": \"USA-states\", \"lon\": [-70.34483], \"marker\": {\"color\": \"rgb(255,65,54)\", \"line\": {\"color\": \"rgb(40,40,40)\", \"width\": 0.5}, \"size\": 14, \"sizemode\": \"area\"}, \"name\": \"Bald Mountain\", \"text\": \"Bald Mountain<br>Count 14\", \"type\": \"scattergeo\", \"uid\": \"0ebdce0d-730c-449b-88b9-05319b9e75c2\"}, {\"lat\": [44.418574], \"locationmode\": \"USA-states\", \"lon\": [-70.465322], \"marker\": {\"color\": \"rgb(133,20,75)\", \"line\": {\"color\": \"rgb(40,40,40)\", \"width\": 0.5}, \"size\": 6, \"sizemode\": \"area\"}, \"name\": \"Black Mountain\", \"text\": \"Black Mountain<br>Count 6\", \"type\": \"scattergeo\", \"uid\": \"734df043-4919-403c-9adc-0264ae4d91cf\"}, {\"lat\": [44.588142], \"locationmode\": \"USA-states\", \"lon\": [-69.86300200000001], \"marker\": {\"color\": \"rgb(255,133,27)\", \"line\": {\"color\": \"rgb(40,40,40)\", \"width\": 0.5}, \"size\": 7, \"sizemode\": \"area\"}, \"name\": \"Rome Lakes\", \"text\": \"Rome Lakes<br>Count 7\", \"type\": \"scattergeo\", \"uid\": \"16ec571b-5bd5-4c9a-8f59-ea0490f19c05\"}, {\"lat\": [44.475854], \"locationmode\": \"USA-states\", \"lon\": [-70.55914399999999], \"marker\": {\"color\": \"rgb(128,0,0)\", \"line\": {\"color\": \"rgb(40,40,40)\", \"width\": 0.5}, \"size\": 1, \"sizemode\": \"area\"}, \"name\": \"Mount Zircon\", \"text\": \"Mount Zircon<br>Count 1\", \"type\": \"scattergeo\", \"uid\": \"2efbe73e-464e-4fe5-8056-96e5bd9c12d8\"}, {\"lat\": [44.516483], \"locationmode\": \"USA-states\", \"lon\": [-70.60690699999999], \"marker\": {\"color\": \"rgb(70,153,154)\", \"line\": {\"color\": \"rgb(40,40,40)\", \"width\": 0.5}, \"size\": 8, \"sizemode\": \"area\"}, \"name\": \"Glass Faced Ledges\", \"text\": \"Glass Faced Ledges<br>Count 8\", \"type\": \"scattergeo\", \"uid\": \"d8d5cc67-6f3c-4e67-8bf9-2e57b4cdc4a7\"}, {\"lat\": [45.144057000000004], \"locationmode\": \"USA-states\", \"lon\": [-70.284246], \"marker\": {\"color\": \"rgb(240,20,230)\", \"line\": {\"color\": \"rgb(40,40,40)\", \"width\": 0.5}, \"size\": 56, \"sizemode\": \"area\"}, \"name\": \"Bigelow\", \"text\": \"Bigelow<br>Count 56\", \"type\": \"scattergeo\", \"uid\": \"88e50c81-8db1-4559-9f95-3036906673db\"}, {\"lat\": [44.748976], \"locationmode\": \"USA-states\", \"lon\": [-70.540672], \"marker\": {\"color\": \"rgb(256,216,177)\", \"line\": {\"color\": \"rgb(40,40,40)\", \"width\": 0.5}, \"size\": 14, \"sizemode\": \"area\"}, \"name\": \"Tumbledown\", \"text\": \"Tumbledown<br>Count 14\", \"type\": \"scattergeo\", \"uid\": \"16648779-0060-4220-aaa7-dd183e80f37a\"}],\n",
       "                        {\"geo\": {\"countrycolor\": \"rgb(255, 255, 255)\", \"countrywidth\": 1, \"landcolor\": \"rgb(217, 217, 217)\", \"projection\": {\"type\": \"albers usa\"}, \"scope\": \"usa\", \"showland\": true, \"subunitcolor\": \"rgb(255, 255, 255)\", \"subunitwidth\": 1}, \"showlegend\": true, \"title\": {\"text\": \"Dicty Collection Density\"}},\n",
       "                        {\"showLink\": false, \"linkText\": \"Export to plot.ly\", \"plotlyServerURL\": \"https://plot.ly\", \"responsive\": true}\n",
       "                    ).then(function(){\n",
       "                            \n",
       "var gd = document.getElementById('f932f63e-494d-4aa4-bd18-e6fe8eb50ac7');\n",
       "var x = new MutationObserver(function (mutations, observer) {{\n",
       "        var display = window.getComputedStyle(gd).display;\n",
       "        if (!display || display === 'none') {{\n",
       "            console.log([gd, 'removed!']);\n",
       "            Plotly.purge(gd);\n",
       "            observer.disconnect();\n",
       "        }}\n",
       "}});\n",
       "\n",
       "// Listen for the removal of the full notebook cells\n",
       "var notebookContainer = gd.closest('#notebook-container');\n",
       "if (notebookContainer) {{\n",
       "    x.observe(notebookContainer, {childList: true});\n",
       "}}\n",
       "\n",
       "// Listen for the clearing of the current output cell\n",
       "var outputEl = gd.closest('.output');\n",
       "if (outputEl) {{\n",
       "    x.observe(outputEl, {childList: true});\n",
       "}}\n",
       "\n",
       "                        })\n",
       "                };\n",
       "                });\n",
       "            </script>\n",
       "        </div>"
      ]
     },
     "metadata": {},
     "output_type": "display_data"
    }
   ],
   "source": [
    "fig = go.Figure(data=cities, layout=layout)\n",
    "py.offline.iplot(fig, filename='d3-bubble-map-populations')"
   ]
  },
  {
   "cell_type": "code",
   "execution_count": 109,
   "metadata": {},
   "outputs": [],
   "source": [
    "import os\n",
    "\n",
    "if not os.path.exists(\"images\"):\n",
    "    os.mkdir(\"images\")"
   ]
  },
  {
   "cell_type": "code",
   "execution_count": 110,
   "metadata": {},
   "outputs": [],
   "source": [
    "fig.write_image(\"images/fig1.png\")"
   ]
  },
  {
   "cell_type": "code",
   "execution_count": null,
   "metadata": {},
   "outputs": [],
   "source": []
  }
 ],
 "metadata": {
  "kernelspec": {
   "display_name": "Python [conda env:root] *",
   "language": "python",
   "name": "conda-root-py"
  },
  "language_info": {
   "codemirror_mode": {
    "name": "ipython",
    "version": 3
   },
   "file_extension": ".py",
   "mimetype": "text/x-python",
   "name": "python",
   "nbconvert_exporter": "python",
   "pygments_lexer": "ipython3",
   "version": "3.7.3"
  }
 },
 "nbformat": 4,
 "nbformat_minor": 2
}
